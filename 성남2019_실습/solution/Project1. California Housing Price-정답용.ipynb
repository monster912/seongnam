{
 "cells": [
  {
   "cell_type": "markdown",
   "metadata": {},
   "source": [
    "# California Housing Price \n",
    "reference : exercise in chapter 2 of 'Hands-On Machine Learning with Scikit-learn and Tensorflow' by Aurélien Géron. \n",
    "\n",
    "##### Tip> shortcuts for Jupyter Notebook\n",
    "* Ctrl + Enter : run cell\n",
    "* Shift + Enter : run cell and select below"
   ]
  },
  {
   "cell_type": "markdown",
   "metadata": {},
   "source": [
    "## 1. Data Load\n",
    "\n",
    "Load the data by using *read_csv()* method in __Pandas__ module. Then, let's take a look at the top 10 rows using the *head()* method. "
   ]
  },
  {
   "cell_type": "code",
   "execution_count": 1,
   "metadata": {
    "scrolled": false
   },
   "outputs": [
    {
     "data": {
      "text/html": [
       "<div>\n",
       "<style scoped>\n",
       "    .dataframe tbody tr th:only-of-type {\n",
       "        vertical-align: middle;\n",
       "    }\n",
       "\n",
       "    .dataframe tbody tr th {\n",
       "        vertical-align: top;\n",
       "    }\n",
       "\n",
       "    .dataframe thead th {\n",
       "        text-align: right;\n",
       "    }\n",
       "</style>\n",
       "<table border=\"1\" class=\"dataframe\">\n",
       "  <thead>\n",
       "    <tr style=\"text-align: right;\">\n",
       "      <th></th>\n",
       "      <th>longitude</th>\n",
       "      <th>latitude</th>\n",
       "      <th>housing_median_age</th>\n",
       "      <th>total_rooms</th>\n",
       "      <th>total_bedrooms</th>\n",
       "      <th>population</th>\n",
       "      <th>households</th>\n",
       "      <th>median_income</th>\n",
       "      <th>median_house_value</th>\n",
       "      <th>ocean_proximity</th>\n",
       "    </tr>\n",
       "  </thead>\n",
       "  <tbody>\n",
       "    <tr>\n",
       "      <th>0</th>\n",
       "      <td>-122.23</td>\n",
       "      <td>37.88</td>\n",
       "      <td>41.0</td>\n",
       "      <td>880.0</td>\n",
       "      <td>129.0</td>\n",
       "      <td>322.0</td>\n",
       "      <td>126.0</td>\n",
       "      <td>8.3252</td>\n",
       "      <td>452600.0</td>\n",
       "      <td>NEAR BAY</td>\n",
       "    </tr>\n",
       "    <tr>\n",
       "      <th>1</th>\n",
       "      <td>-122.22</td>\n",
       "      <td>37.86</td>\n",
       "      <td>21.0</td>\n",
       "      <td>7099.0</td>\n",
       "      <td>1106.0</td>\n",
       "      <td>2401.0</td>\n",
       "      <td>1138.0</td>\n",
       "      <td>8.3014</td>\n",
       "      <td>358500.0</td>\n",
       "      <td>NEAR BAY</td>\n",
       "    </tr>\n",
       "    <tr>\n",
       "      <th>2</th>\n",
       "      <td>-122.24</td>\n",
       "      <td>37.85</td>\n",
       "      <td>52.0</td>\n",
       "      <td>1467.0</td>\n",
       "      <td>190.0</td>\n",
       "      <td>496.0</td>\n",
       "      <td>177.0</td>\n",
       "      <td>7.2574</td>\n",
       "      <td>352100.0</td>\n",
       "      <td>NEAR BAY</td>\n",
       "    </tr>\n",
       "    <tr>\n",
       "      <th>3</th>\n",
       "      <td>-122.25</td>\n",
       "      <td>37.85</td>\n",
       "      <td>52.0</td>\n",
       "      <td>1274.0</td>\n",
       "      <td>235.0</td>\n",
       "      <td>558.0</td>\n",
       "      <td>219.0</td>\n",
       "      <td>5.6431</td>\n",
       "      <td>341300.0</td>\n",
       "      <td>NEAR BAY</td>\n",
       "    </tr>\n",
       "    <tr>\n",
       "      <th>4</th>\n",
       "      <td>-122.25</td>\n",
       "      <td>37.85</td>\n",
       "      <td>52.0</td>\n",
       "      <td>1627.0</td>\n",
       "      <td>280.0</td>\n",
       "      <td>565.0</td>\n",
       "      <td>259.0</td>\n",
       "      <td>3.8462</td>\n",
       "      <td>342200.0</td>\n",
       "      <td>NEAR BAY</td>\n",
       "    </tr>\n",
       "    <tr>\n",
       "      <th>5</th>\n",
       "      <td>-122.25</td>\n",
       "      <td>37.85</td>\n",
       "      <td>52.0</td>\n",
       "      <td>919.0</td>\n",
       "      <td>213.0</td>\n",
       "      <td>413.0</td>\n",
       "      <td>193.0</td>\n",
       "      <td>4.0368</td>\n",
       "      <td>269700.0</td>\n",
       "      <td>NEAR BAY</td>\n",
       "    </tr>\n",
       "    <tr>\n",
       "      <th>6</th>\n",
       "      <td>-122.25</td>\n",
       "      <td>37.84</td>\n",
       "      <td>52.0</td>\n",
       "      <td>2535.0</td>\n",
       "      <td>489.0</td>\n",
       "      <td>1094.0</td>\n",
       "      <td>514.0</td>\n",
       "      <td>3.6591</td>\n",
       "      <td>299200.0</td>\n",
       "      <td>NEAR BAY</td>\n",
       "    </tr>\n",
       "    <tr>\n",
       "      <th>7</th>\n",
       "      <td>-122.25</td>\n",
       "      <td>37.84</td>\n",
       "      <td>52.0</td>\n",
       "      <td>3104.0</td>\n",
       "      <td>687.0</td>\n",
       "      <td>1157.0</td>\n",
       "      <td>647.0</td>\n",
       "      <td>3.1200</td>\n",
       "      <td>241400.0</td>\n",
       "      <td>NEAR BAY</td>\n",
       "    </tr>\n",
       "    <tr>\n",
       "      <th>8</th>\n",
       "      <td>-122.26</td>\n",
       "      <td>37.84</td>\n",
       "      <td>42.0</td>\n",
       "      <td>2555.0</td>\n",
       "      <td>665.0</td>\n",
       "      <td>1206.0</td>\n",
       "      <td>595.0</td>\n",
       "      <td>2.0804</td>\n",
       "      <td>226700.0</td>\n",
       "      <td>NEAR BAY</td>\n",
       "    </tr>\n",
       "    <tr>\n",
       "      <th>9</th>\n",
       "      <td>-122.25</td>\n",
       "      <td>37.84</td>\n",
       "      <td>52.0</td>\n",
       "      <td>3549.0</td>\n",
       "      <td>707.0</td>\n",
       "      <td>1551.0</td>\n",
       "      <td>714.0</td>\n",
       "      <td>3.6912</td>\n",
       "      <td>261100.0</td>\n",
       "      <td>NEAR BAY</td>\n",
       "    </tr>\n",
       "  </tbody>\n",
       "</table>\n",
       "</div>"
      ],
      "text/plain": [
       "   longitude  latitude  housing_median_age  total_rooms  total_bedrooms  \\\n",
       "0    -122.23     37.88                41.0        880.0           129.0   \n",
       "1    -122.22     37.86                21.0       7099.0          1106.0   \n",
       "2    -122.24     37.85                52.0       1467.0           190.0   \n",
       "3    -122.25     37.85                52.0       1274.0           235.0   \n",
       "4    -122.25     37.85                52.0       1627.0           280.0   \n",
       "5    -122.25     37.85                52.0        919.0           213.0   \n",
       "6    -122.25     37.84                52.0       2535.0           489.0   \n",
       "7    -122.25     37.84                52.0       3104.0           687.0   \n",
       "8    -122.26     37.84                42.0       2555.0           665.0   \n",
       "9    -122.25     37.84                52.0       3549.0           707.0   \n",
       "\n",
       "   population  households  median_income  median_house_value ocean_proximity  \n",
       "0       322.0       126.0         8.3252            452600.0        NEAR BAY  \n",
       "1      2401.0      1138.0         8.3014            358500.0        NEAR BAY  \n",
       "2       496.0       177.0         7.2574            352100.0        NEAR BAY  \n",
       "3       558.0       219.0         5.6431            341300.0        NEAR BAY  \n",
       "4       565.0       259.0         3.8462            342200.0        NEAR BAY  \n",
       "5       413.0       193.0         4.0368            269700.0        NEAR BAY  \n",
       "6      1094.0       514.0         3.6591            299200.0        NEAR BAY  \n",
       "7      1157.0       647.0         3.1200            241400.0        NEAR BAY  \n",
       "8      1206.0       595.0         2.0804            226700.0        NEAR BAY  \n",
       "9      1551.0       714.0         3.6912            261100.0        NEAR BAY  "
      ]
     },
     "execution_count": 1,
     "metadata": {},
     "output_type": "execute_result"
    }
   ],
   "source": [
    "# Data load\n",
    "import pandas as pd\n",
    "\n",
    "housing = pd.read_csv('housing.csv')\n",
    "housing.head(10)"
   ]
  },
  {
   "cell_type": "markdown",
   "metadata": {},
   "source": [
    "Let's see the distribution of the data by using __matplotlib__ module briefly."
   ]
  },
  {
   "cell_type": "code",
   "execution_count": 2,
   "metadata": {},
   "outputs": [
    {
     "data": {
      "text/plain": [
       "<matplotlib.legend.Legend at 0x29a01207a20>"
      ]
     },
     "execution_count": 2,
     "metadata": {},
     "output_type": "execute_result"
    },
    {
     "data": {
      "image/png": "[encoded data removed]",
      "text/plain": [
       "<Figure size 720x504 with 2 Axes>"
      ]
     },
     "metadata": {
      "needs_background": "light"
     },
     "output_type": "display_data"
    }
   ],
   "source": [
    "# figures plotting with data\n",
    "%matplotlib inline\n",
    "import matplotlib\n",
    "import matplotlib.pyplot as plt\n",
    "plt.rcParams['axes.labelsize'] = 14\n",
    "plt.rcParams['xtick.labelsize'] = 12\n",
    "plt.rcParams['ytick.labelsize'] = 12\n",
    "\n",
    "housing.plot(kind=\"scatter\", x=\"longitude\", y=\"latitude\", alpha=0.4,\n",
    "    s=housing[\"population\"]/50, label=\"population\", figsize=(10,7),\n",
    "    c=\"median_house_value\", cmap=plt.get_cmap(\"jet\"), colorbar=True,\n",
    "    sharex=False)\n",
    "\n",
    "plt.legend()"
   ]
  },
  {
   "cell_type": "markdown",
   "metadata": {},
   "source": [
    "To better understand the characteristics of each feature, let's apply the *info()* method."
   ]
  },
  {
   "cell_type": "code",
   "execution_count": 3,
   "metadata": {
    "scrolled": false
   },
   "outputs": [
    {
     "name": "stdout",
     "output_type": "stream",
     "text": [
      "<class 'pandas.core.frame.DataFrame'>\n",
      "RangeIndex: 20640 entries, 0 to 20639\n",
      "Data columns (total 10 columns):\n",
      "longitude             20640 non-null float64\n",
      "latitude              20640 non-null float64\n",
      "housing_median_age    20640 non-null float64\n",
      "total_rooms           20640 non-null float64\n",
      "total_bedrooms        20433 non-null float64\n",
      "population            20640 non-null float64\n",
      "households            20640 non-null float64\n",
      "median_income         20640 non-null float64\n",
      "median_house_value    20640 non-null float64\n",
      "ocean_proximity       20640 non-null object\n",
      "dtypes: float64(9), object(1)\n",
      "memory usage: 1.6+ MB\n"
     ]
    }
   ],
   "source": [
    "# check a structure of the data\n",
    "housing.info()"
   ]
  },
  {
   "cell_type": "markdown",
   "metadata": {},
   "source": [
    "Let’s look at how much each attribute correlates with the *median house value*:"
   ]
  },
  {
   "cell_type": "code",
   "execution_count": 4,
   "metadata": {},
   "outputs": [
    {
     "data": {
      "text/plain": [
       "median_house_value    1.000000\n",
       "median_income         0.688075\n",
       "total_rooms           0.134153\n",
       "housing_median_age    0.105623\n",
       "households            0.065843\n",
       "total_bedrooms        0.049686\n",
       "population           -0.024650\n",
       "longitude            -0.045967\n",
       "latitude             -0.144160\n",
       "Name: median_house_value, dtype: float64"
      ]
     },
     "execution_count": 4,
     "metadata": {},
     "output_type": "execute_result"
    }
   ],
   "source": [
    "# correlation between the median_house_value and other features\n",
    "corr_matrix = housing.corr()\n",
    "corr_matrix['median_house_value'].sort_values(ascending=False)"
   ]
  },
  {
   "cell_type": "markdown",
   "metadata": {},
   "source": [
    "## 2. Prepare the Data\n",
    "\n",
    "this step consists of 'pre-processing', 'train-test seperation', and 'feature-label seperation'."
   ]
  },
  {
   "cell_type": "markdown",
   "metadata": {},
   "source": [
    "### 2-1) Pre-processing \n",
    "\n",
    "#### 2-1.1) Data cleaning\n",
    "Most Machine Learning algorithms cannot work with missing features, so let’s replace the empty values of 'total_bedrooms' with the median value."
   ]
  },
  {
   "cell_type": "code",
   "execution_count": 5,
   "metadata": {},
   "outputs": [
    {
     "name": "stdout",
     "output_type": "stream",
     "text": [
      "<class 'pandas.core.frame.DataFrame'>\n",
      "RangeIndex: 20640 entries, 0 to 20639\n",
      "Data columns (total 10 columns):\n",
      "longitude             20640 non-null float64\n",
      "latitude              20640 non-null float64\n",
      "housing_median_age    20640 non-null float64\n",
      "total_rooms           20640 non-null float64\n",
      "total_bedrooms        20640 non-null float64\n",
      "population            20640 non-null float64\n",
      "households            20640 non-null float64\n",
      "median_income         20640 non-null float64\n",
      "median_house_value    20640 non-null float64\n",
      "ocean_proximity       20640 non-null object\n",
      "dtypes: float64(9), object(1)\n",
      "memory usage: 1.6+ MB\n"
     ]
    }
   ],
   "source": [
    "# replace the empty values with the median\n",
    "median =housing[\"total_bedrooms\"].median()\n",
    "housing[\"total_bedrooms\"] = housing[\"total_bedrooms\"].fillna(median) \n",
    "housing.info()"
   ]
  },
  {
   "cell_type": "markdown",
   "metadata": {},
   "source": [
    "#### 2-1.2) Attributes combinations\n",
    "*rooms_per_household* is more meaningful than *total_rooms*. Also, *bedrooms_per_room* is more meaningful than *total_bedrooms*."
   ]
  },
  {
   "cell_type": "code",
   "execution_count": 6,
   "metadata": {},
   "outputs": [
    {
     "name": "stdout",
     "output_type": "stream",
     "text": [
      "<class 'pandas.core.frame.DataFrame'>\n",
      "RangeIndex: 20640 entries, 0 to 20639\n",
      "Data columns (total 10 columns):\n",
      "longitude              20640 non-null float64\n",
      "latitude               20640 non-null float64\n",
      "housing_median_age     20640 non-null float64\n",
      "population             20640 non-null float64\n",
      "households             20640 non-null float64\n",
      "median_income          20640 non-null float64\n",
      "median_house_value     20640 non-null float64\n",
      "ocean_proximity        20640 non-null object\n",
      "rooms_per_household    20640 non-null float64\n",
      "bedrooms_per_room      20640 non-null float64\n",
      "dtypes: float64(9), object(1)\n",
      "memory usage: 1.6+ MB\n"
     ]
    }
   ],
   "source": [
    "# Attributes combinations\n",
    "housing[\"rooms_per_household\"] = housing[\"total_rooms\"]/housing[\"households\"]\n",
    "housing[\"bedrooms_per_room\"] = housing[\"total_bedrooms\"]/housing[\"total_rooms\"]\n",
    "del housing[\"total_rooms\"], housing[\"total_bedrooms\"]\n",
    "\n",
    "housing.info()"
   ]
  },
  {
   "cell_type": "markdown",
   "metadata": {},
   "source": [
    "#### 2-1.3) Feature Scaling\n",
    "Machine Learning algorithms don’t perform well when the input numerical attributes have very different scales.\n",
    "\n",
    "__Scikit-Learn__ provides a transformer called *StandardScaler* for *standardization*."
   ]
  },
  {
   "cell_type": "code",
   "execution_count": 7,
   "metadata": {
    "scrolled": true
   },
   "outputs": [
    {
     "data": {
      "text/html": [
       "<div>\n",
       "<style scoped>\n",
       "    .dataframe tbody tr th:only-of-type {\n",
       "        vertical-align: middle;\n",
       "    }\n",
       "\n",
       "    .dataframe tbody tr th {\n",
       "        vertical-align: top;\n",
       "    }\n",
       "\n",
       "    .dataframe thead th {\n",
       "        text-align: right;\n",
       "    }\n",
       "</style>\n",
       "<table border=\"1\" class=\"dataframe\">\n",
       "  <thead>\n",
       "    <tr style=\"text-align: right;\">\n",
       "      <th></th>\n",
       "      <th>longitude</th>\n",
       "      <th>latitude</th>\n",
       "      <th>housing_median_age</th>\n",
       "      <th>population</th>\n",
       "      <th>households</th>\n",
       "      <th>median_income</th>\n",
       "      <th>rooms_per_household</th>\n",
       "      <th>bedrooms_per_room</th>\n",
       "      <th>median_house_value</th>\n",
       "      <th>ocean_proximity</th>\n",
       "    </tr>\n",
       "  </thead>\n",
       "  <tbody>\n",
       "    <tr>\n",
       "      <th>0</th>\n",
       "      <td>-1.327835</td>\n",
       "      <td>1.052548</td>\n",
       "      <td>0.982143</td>\n",
       "      <td>-0.974429</td>\n",
       "      <td>-0.977033</td>\n",
       "      <td>2.344766</td>\n",
       "      <td>0.628559</td>\n",
       "      <td>-1.029988</td>\n",
       "      <td>452600.0</td>\n",
       "      <td>NEAR BAY</td>\n",
       "    </tr>\n",
       "    <tr>\n",
       "      <th>1</th>\n",
       "      <td>-1.322844</td>\n",
       "      <td>1.043185</td>\n",
       "      <td>-0.607019</td>\n",
       "      <td>0.861439</td>\n",
       "      <td>1.669961</td>\n",
       "      <td>2.332238</td>\n",
       "      <td>0.327041</td>\n",
       "      <td>-0.888897</td>\n",
       "      <td>358500.0</td>\n",
       "      <td>NEAR BAY</td>\n",
       "    </tr>\n",
       "    <tr>\n",
       "      <th>2</th>\n",
       "      <td>-1.332827</td>\n",
       "      <td>1.038503</td>\n",
       "      <td>1.856182</td>\n",
       "      <td>-0.820777</td>\n",
       "      <td>-0.843637</td>\n",
       "      <td>1.782699</td>\n",
       "      <td>1.155620</td>\n",
       "      <td>-1.291686</td>\n",
       "      <td>352100.0</td>\n",
       "      <td>NEAR BAY</td>\n",
       "    </tr>\n",
       "    <tr>\n",
       "      <th>3</th>\n",
       "      <td>-1.337818</td>\n",
       "      <td>1.038503</td>\n",
       "      <td>1.856182</td>\n",
       "      <td>-0.766028</td>\n",
       "      <td>-0.733781</td>\n",
       "      <td>0.932968</td>\n",
       "      <td>0.156966</td>\n",
       "      <td>-0.449613</td>\n",
       "      <td>341300.0</td>\n",
       "      <td>NEAR BAY</td>\n",
       "    </tr>\n",
       "    <tr>\n",
       "      <th>4</th>\n",
       "      <td>-1.337818</td>\n",
       "      <td>1.038503</td>\n",
       "      <td>1.856182</td>\n",
       "      <td>-0.759847</td>\n",
       "      <td>-0.629157</td>\n",
       "      <td>-0.012881</td>\n",
       "      <td>0.344711</td>\n",
       "      <td>-0.639087</td>\n",
       "      <td>342200.0</td>\n",
       "      <td>NEAR BAY</td>\n",
       "    </tr>\n",
       "  </tbody>\n",
       "</table>\n",
       "</div>"
      ],
      "text/plain": [
       "   longitude  latitude  housing_median_age  population  households  \\\n",
       "0  -1.327835  1.052548            0.982143   -0.974429   -0.977033   \n",
       "1  -1.322844  1.043185           -0.607019    0.861439    1.669961   \n",
       "2  -1.332827  1.038503            1.856182   -0.820777   -0.843637   \n",
       "3  -1.337818  1.038503            1.856182   -0.766028   -0.733781   \n",
       "4  -1.337818  1.038503            1.856182   -0.759847   -0.629157   \n",
       "\n",
       "   median_income  rooms_per_household  bedrooms_per_room  median_house_value  \\\n",
       "0       2.344766             0.628559          -1.029988            452600.0   \n",
       "1       2.332238             0.327041          -0.888897            358500.0   \n",
       "2       1.782699             1.155620          -1.291686            352100.0   \n",
       "3       0.932968             0.156966          -0.449613            341300.0   \n",
       "4      -0.012881             0.344711          -0.639087            342200.0   \n",
       "\n",
       "  ocean_proximity  \n",
       "0        NEAR BAY  \n",
       "1        NEAR BAY  \n",
       "2        NEAR BAY  \n",
       "3        NEAR BAY  \n",
       "4        NEAR BAY  "
      ]
     },
     "execution_count": 7,
     "metadata": {},
     "output_type": "execute_result"
    }
   ],
   "source": [
    "# feature standardization\n",
    "from sklearn.preprocessing import StandardScaler\n",
    "\n",
    "scaler = StandardScaler()\n",
    "\n",
    "# delete columns of text type and target variable\n",
    "col_list = list(housing) \n",
    "col_list.remove('ocean_proximity') # text type\n",
    "col_list.remove('median_house_value') # target variable needs not to be scaled\n",
    "\n",
    "# generate a new dataframe that consist of numeric type only\n",
    "housing_numeric = housing[col_list]\n",
    "housing_scaled = scaler.fit_transform(housing_numeric)\n",
    "# Data type conversion from 'Series' to 'DataFrame'\n",
    "housing_scaled_df = pd.DataFrame(housing_scaled, index=housing_numeric.index, columns=housing_numeric.columns)\n",
    "\n",
    "# Concatenate \n",
    "housing = pd.concat([housing_scaled_df, housing['median_house_value'], housing['ocean_proximity']], axis=1)\n",
    "housing.head()"
   ]
  },
  {
   "cell_type": "markdown",
   "metadata": {},
   "source": [
    "#### 2-1.4) Handling Text and Categorical Attributes\n",
    "Most Machine Learning algorithms prefer to work with numbers anyway, so let’s convert the 'ocean_proximity' to numbers.\n",
    "\n",
    "__Pandas__ provides a *get_dummies* method to convert integer categorical values into one-hot vectors. "
   ]
  },
  {
   "cell_type": "code",
   "execution_count": 8,
   "metadata": {},
   "outputs": [
    {
     "data": {
      "text/html": [
       "<div>\n",
       "<style scoped>\n",
       "    .dataframe tbody tr th:only-of-type {\n",
       "        vertical-align: middle;\n",
       "    }\n",
       "\n",
       "    .dataframe tbody tr th {\n",
       "        vertical-align: top;\n",
       "    }\n",
       "\n",
       "    .dataframe thead th {\n",
       "        text-align: right;\n",
       "    }\n",
       "</style>\n",
       "<table border=\"1\" class=\"dataframe\">\n",
       "  <thead>\n",
       "    <tr style=\"text-align: right;\">\n",
       "      <th></th>\n",
       "      <th>longitude</th>\n",
       "      <th>latitude</th>\n",
       "      <th>housing_median_age</th>\n",
       "      <th>population</th>\n",
       "      <th>households</th>\n",
       "      <th>median_income</th>\n",
       "      <th>rooms_per_household</th>\n",
       "      <th>bedrooms_per_room</th>\n",
       "      <th>median_house_value</th>\n",
       "      <th>ocean_proximity_&lt;1H OCEAN</th>\n",
       "      <th>ocean_proximity_INLAND</th>\n",
       "      <th>ocean_proximity_ISLAND</th>\n",
       "      <th>ocean_proximity_NEAR BAY</th>\n",
       "      <th>ocean_proximity_NEAR OCEAN</th>\n",
       "    </tr>\n",
       "  </thead>\n",
       "  <tbody>\n",
       "    <tr>\n",
       "      <th>0</th>\n",
       "      <td>-1.327835</td>\n",
       "      <td>1.052548</td>\n",
       "      <td>0.982143</td>\n",
       "      <td>-0.974429</td>\n",
       "      <td>-0.977033</td>\n",
       "      <td>2.344766</td>\n",
       "      <td>0.628559</td>\n",
       "      <td>-1.029988</td>\n",
       "      <td>452600.0</td>\n",
       "      <td>0</td>\n",
       "      <td>0</td>\n",
       "      <td>0</td>\n",
       "      <td>1</td>\n",
       "      <td>0</td>\n",
       "    </tr>\n",
       "    <tr>\n",
       "      <th>1</th>\n",
       "      <td>-1.322844</td>\n",
       "      <td>1.043185</td>\n",
       "      <td>-0.607019</td>\n",
       "      <td>0.861439</td>\n",
       "      <td>1.669961</td>\n",
       "      <td>2.332238</td>\n",
       "      <td>0.327041</td>\n",
       "      <td>-0.888897</td>\n",
       "      <td>358500.0</td>\n",
       "      <td>0</td>\n",
       "      <td>0</td>\n",
       "      <td>0</td>\n",
       "      <td>1</td>\n",
       "      <td>0</td>\n",
       "    </tr>\n",
       "    <tr>\n",
       "      <th>2</th>\n",
       "      <td>-1.332827</td>\n",
       "      <td>1.038503</td>\n",
       "      <td>1.856182</td>\n",
       "      <td>-0.820777</td>\n",
       "      <td>-0.843637</td>\n",
       "      <td>1.782699</td>\n",
       "      <td>1.155620</td>\n",
       "      <td>-1.291686</td>\n",
       "      <td>352100.0</td>\n",
       "      <td>0</td>\n",
       "      <td>0</td>\n",
       "      <td>0</td>\n",
       "      <td>1</td>\n",
       "      <td>0</td>\n",
       "    </tr>\n",
       "    <tr>\n",
       "      <th>3</th>\n",
       "      <td>-1.337818</td>\n",
       "      <td>1.038503</td>\n",
       "      <td>1.856182</td>\n",
       "      <td>-0.766028</td>\n",
       "      <td>-0.733781</td>\n",
       "      <td>0.932968</td>\n",
       "      <td>0.156966</td>\n",
       "      <td>-0.449613</td>\n",
       "      <td>341300.0</td>\n",
       "      <td>0</td>\n",
       "      <td>0</td>\n",
       "      <td>0</td>\n",
       "      <td>1</td>\n",
       "      <td>0</td>\n",
       "    </tr>\n",
       "    <tr>\n",
       "      <th>4</th>\n",
       "      <td>-1.337818</td>\n",
       "      <td>1.038503</td>\n",
       "      <td>1.856182</td>\n",
       "      <td>-0.759847</td>\n",
       "      <td>-0.629157</td>\n",
       "      <td>-0.012881</td>\n",
       "      <td>0.344711</td>\n",
       "      <td>-0.639087</td>\n",
       "      <td>342200.0</td>\n",
       "      <td>0</td>\n",
       "      <td>0</td>\n",
       "      <td>0</td>\n",
       "      <td>1</td>\n",
       "      <td>0</td>\n",
       "    </tr>\n",
       "    <tr>\n",
       "      <th>5</th>\n",
       "      <td>-1.337818</td>\n",
       "      <td>1.038503</td>\n",
       "      <td>1.856182</td>\n",
       "      <td>-0.894071</td>\n",
       "      <td>-0.801787</td>\n",
       "      <td>0.087447</td>\n",
       "      <td>-0.269730</td>\n",
       "      <td>0.275563</td>\n",
       "      <td>269700.0</td>\n",
       "      <td>0</td>\n",
       "      <td>0</td>\n",
       "      <td>0</td>\n",
       "      <td>1</td>\n",
       "      <td>0</td>\n",
       "    </tr>\n",
       "    <tr>\n",
       "      <th>6</th>\n",
       "      <td>-1.337818</td>\n",
       "      <td>1.033821</td>\n",
       "      <td>1.856182</td>\n",
       "      <td>-0.292712</td>\n",
       "      <td>0.037823</td>\n",
       "      <td>-0.111366</td>\n",
       "      <td>-0.200918</td>\n",
       "      <td>-0.320242</td>\n",
       "      <td>299200.0</td>\n",
       "      <td>0</td>\n",
       "      <td>0</td>\n",
       "      <td>0</td>\n",
       "      <td>1</td>\n",
       "      <td>0</td>\n",
       "    </tr>\n",
       "    <tr>\n",
       "      <th>7</th>\n",
       "      <td>-1.337818</td>\n",
       "      <td>1.033821</td>\n",
       "      <td>1.856182</td>\n",
       "      <td>-0.237079</td>\n",
       "      <td>0.385698</td>\n",
       "      <td>-0.395137</td>\n",
       "      <td>-0.255232</td>\n",
       "      <td>0.115458</td>\n",
       "      <td>241400.0</td>\n",
       "      <td>0</td>\n",
       "      <td>0</td>\n",
       "      <td>0</td>\n",
       "      <td>1</td>\n",
       "      <td>0</td>\n",
       "    </tr>\n",
       "    <tr>\n",
       "      <th>8</th>\n",
       "      <td>-1.342809</td>\n",
       "      <td>1.033821</td>\n",
       "      <td>1.061601</td>\n",
       "      <td>-0.193810</td>\n",
       "      <td>0.249687</td>\n",
       "      <td>-0.942359</td>\n",
       "      <td>-0.458703</td>\n",
       "      <td>0.712372</td>\n",
       "      <td>226700.0</td>\n",
       "      <td>0</td>\n",
       "      <td>0</td>\n",
       "      <td>0</td>\n",
       "      <td>1</td>\n",
       "      <td>0</td>\n",
       "    </tr>\n",
       "    <tr>\n",
       "      <th>9</th>\n",
       "      <td>-1.337818</td>\n",
       "      <td>1.033821</td>\n",
       "      <td>1.856182</td>\n",
       "      <td>0.110844</td>\n",
       "      <td>0.560944</td>\n",
       "      <td>-0.094470</td>\n",
       "      <td>-0.185283</td>\n",
       "      <td>-0.223507</td>\n",
       "      <td>261100.0</td>\n",
       "      <td>0</td>\n",
       "      <td>0</td>\n",
       "      <td>0</td>\n",
       "      <td>1</td>\n",
       "      <td>0</td>\n",
       "    </tr>\n",
       "  </tbody>\n",
       "</table>\n",
       "</div>"
      ],
      "text/plain": [
       "   longitude  latitude  housing_median_age  population  households  \\\n",
       "0  -1.327835  1.052548            0.982143   -0.974429   -0.977033   \n",
       "1  -1.322844  1.043185           -0.607019    0.861439    1.669961   \n",
       "2  -1.332827  1.038503            1.856182   -0.820777   -0.843637   \n",
       "3  -1.337818  1.038503            1.856182   -0.766028   -0.733781   \n",
       "4  -1.337818  1.038503            1.856182   -0.759847   -0.629157   \n",
       "5  -1.337818  1.038503            1.856182   -0.894071   -0.801787   \n",
       "6  -1.337818  1.033821            1.856182   -0.292712    0.037823   \n",
       "7  -1.337818  1.033821            1.856182   -0.237079    0.385698   \n",
       "8  -1.342809  1.033821            1.061601   -0.193810    0.249687   \n",
       "9  -1.337818  1.033821            1.856182    0.110844    0.560944   \n",
       "\n",
       "   median_income  rooms_per_household  bedrooms_per_room  median_house_value  \\\n",
       "0       2.344766             0.628559          -1.029988            452600.0   \n",
       "1       2.332238             0.327041          -0.888897            358500.0   \n",
       "2       1.782699             1.155620          -1.291686            352100.0   \n",
       "3       0.932968             0.156966          -0.449613            341300.0   \n",
       "4      -0.012881             0.344711          -0.639087            342200.0   \n",
       "5       0.087447            -0.269730           0.275563            269700.0   \n",
       "6      -0.111366            -0.200918          -0.320242            299200.0   \n",
       "7      -0.395137            -0.255232           0.115458            241400.0   \n",
       "8      -0.942359            -0.458703           0.712372            226700.0   \n",
       "9      -0.094470            -0.185283          -0.223507            261100.0   \n",
       "\n",
       "   ocean_proximity_<1H OCEAN  ocean_proximity_INLAND  ocean_proximity_ISLAND  \\\n",
       "0                          0                       0                       0   \n",
       "1                          0                       0                       0   \n",
       "2                          0                       0                       0   \n",
       "3                          0                       0                       0   \n",
       "4                          0                       0                       0   \n",
       "5                          0                       0                       0   \n",
       "6                          0                       0                       0   \n",
       "7                          0                       0                       0   \n",
       "8                          0                       0                       0   \n",
       "9                          0                       0                       0   \n",
       "\n",
       "   ocean_proximity_NEAR BAY  ocean_proximity_NEAR OCEAN  \n",
       "0                         1                           0  \n",
       "1                         1                           0  \n",
       "2                         1                           0  \n",
       "3                         1                           0  \n",
       "4                         1                           0  \n",
       "5                         1                           0  \n",
       "6                         1                           0  \n",
       "7                         1                           0  \n",
       "8                         1                           0  \n",
       "9                         1                           0  "
      ]
     },
     "execution_count": 8,
     "metadata": {},
     "output_type": "execute_result"
    }
   ],
   "source": [
    "# One-hot encoding\n",
    "housing = pd.get_dummies(housing)\n",
    "housing.head(10)"
   ]
  },
  {
   "cell_type": "markdown",
   "metadata": {},
   "source": [
    "### 2-2) Training and Test Set Seperation\n",
    "__Scikit-Learn__ provides *train_test_split* function to split dataset into multiple subsets in various ways. "
   ]
  },
  {
   "cell_type": "code",
   "execution_count": 9,
   "metadata": {},
   "outputs": [
    {
     "name": "stdout",
     "output_type": "stream",
     "text": [
      "# of train_set : 16512, # of test_set : 4128\n"
     ]
    }
   ],
   "source": [
    "# training - test seperation\n",
    "from sklearn.model_selection import train_test_split\n",
    "\n",
    "train_set, test_set = train_test_split(housing, test_size=0.2, random_state=42)\n",
    "\n",
    "print('# of train_set : %.0f, # of test_set : %.0f' %(train_set.shape[0], test_set.shape[0]))"
   ]
  },
  {
   "cell_type": "markdown",
   "metadata": {},
   "source": [
    "### 2-3) Features and Target Value Seperation of the Training Set\n",
    "It’s time to prepare the data for your Machine Learning algorithms. \n",
    "\n",
    "Let’s separate the features and target value to generate the model H(X)."
   ]
  },
  {
   "cell_type": "code",
   "execution_count": 10,
   "metadata": {},
   "outputs": [],
   "source": [
    "# feature and label seperation of training set\n",
    "train_set_features = train_set.drop('median_house_value',axis=1)\n",
    "train_set_target = train_set[\"median_house_value\"].copy()"
   ]
  },
  {
   "cell_type": "markdown",
   "metadata": {},
   "source": [
    "## 3. Linear Regression\n",
    "generate the linear regression model by using *LinearRegression* function from __Scikit-learn__.\n",
    "\n",
    "For calculating our RMSE, *mean_square_error* function will be used from __scikit-learn__. Also, __numpy__ module will be used to use sqaure-root operation.\n",
    "\n",
    " $$RMSE = \\sqrt{\\sum{(y - \\widehat y)^2}\\over N}$$\n",
    " <br/>\n",
    " \n",
    "$y$ : actual median_house_value, $\\widehat y$ : median_house_value predicted. $N$ : total number of data<br/>"
   ]
  },
  {
   "cell_type": "code",
   "execution_count": 11,
   "metadata": {},
   "outputs": [],
   "source": [
    "def RMSE_calculation(param1, param2):\n",
    "    mse = mean_squared_error(param1, param2)\n",
    "    rmse = np.sqrt(mse)\n",
    "\n",
    "    return rmse"
   ]
  },
  {
   "cell_type": "code",
   "execution_count": 12,
   "metadata": {},
   "outputs": [
    {
     "name": "stdout",
     "output_type": "stream",
     "text": [
      "train_RMSE : 67631.16 , test_RMSE : 72337.41\n"
     ]
    }
   ],
   "source": [
    "from sklearn.linear_model import LinearRegression\n",
    "from sklearn.metrics import mean_squared_error\n",
    "import numpy as np # for a sqaure root calcuation\n",
    "\n",
    "# generate model by using training set\n",
    "lin_reg = LinearRegression()\n",
    "lin_reg.fit(train_set_features, train_set_target) \n",
    "\n",
    "# Feature and target value Seperation of the test set\n",
    "test_set_features = test_set.drop('median_house_value',axis=1)\n",
    "test_set_target = test_set[\"median_house_value\"].copy()\n",
    "\n",
    "# target value predicted from our model\n",
    "train_final_predictions = lin_reg.predict(train_set_features)\n",
    "test_final_predictions = lin_reg.predict(test_set_features)\n",
    "\n",
    "# RMSE\n",
    "train_final_rmse = RMSE_calculation(train_set_target, train_final_predictions)\n",
    "test_final_rmse = RMSE_calculation(test_set_target, test_final_predictions)\n",
    "\n",
    "print('train_RMSE : %.2f , test_RMSE : %.2f' %(train_final_rmse, test_final_rmse))"
   ]
  },
  {
   "cell_type": "markdown",
   "metadata": {},
   "source": [
    "## 4. Linear Regression with Gradient Descent"
   ]
  },
  {
   "cell_type": "markdown",
   "metadata": {},
   "source": [
    "To compute matrix calculations easily, convert data types from dataframe to numpy array. "
   ]
  },
  {
   "cell_type": "code",
   "execution_count": 13,
   "metadata": {},
   "outputs": [],
   "source": [
    "train_set_features_array = train_set_features.values\n",
    "train_set_target_array =np.expand_dims(train_set_target,axis=1)\n",
    "\n",
    "test_set_features_array = test_set_features.values\n",
    "test_set_target_array = np.expand_dims(test_set_target,axis=1)\n",
    "\n",
    "train_y = train_set_target.values.reshape(-1,1)\n",
    "test_y = test_set_target.values.reshape(-1,1)"
   ]
  },
  {
   "cell_type": "markdown",
   "metadata": {},
   "source": [
    "Generate the augmented matrix $X_{b}$ by adding bias column which consists of all 1s."
   ]
  },
  {
   "cell_type": "code",
   "execution_count": 14,
   "metadata": {},
   "outputs": [],
   "source": [
    "train_bias_column = np.ones([train_set_features_array.shape[0],1])\n",
    "train_X_b = np.concatenate((train_set_features_array, train_bias_column),axis=1)\n",
    "\n",
    "test_bias_column = np.ones([test_set_features_array.shape[0],1])\n",
    "test_X_b = np.concatenate((test_set_features_array, test_bias_column),axis=1)"
   ]
  },
  {
   "cell_type": "markdown",
   "metadata": {},
   "source": [
    "### 4-1) Batch Gradient Descent"
   ]
  },
  {
   "cell_type": "markdown",
   "metadata": {},
   "source": [
    "The gradient descent mothod is as follows."
   ]
  },
  {
   "cell_type": "markdown",
   "metadata": {},
   "source": [
    "$$ \\theta \\leftarrow \\theta - \\eta\\nabla_{\\theta} J(\\theta) \\quad ,\\,where \\; \\eta = learning\\, rate$$ \n"
   ]
  },
  {
   "cell_type": "markdown",
   "metadata": {},
   "source": [
    "Recall that "
   ]
  },
  {
   "cell_type": "markdown",
   "metadata": {},
   "source": [
    "$$ \\nabla_{\\theta} J(\\theta) = X^{T}X\\theta - X^{T}y $$\n",
    "$$ = X^{T}(X\\theta-y)$$"
   ]
  },
  {
   "cell_type": "markdown",
   "metadata": {},
   "source": [
    "It is batch gradient descent that $X$ contains all training instances."
   ]
  },
  {
   "cell_type": "markdown",
   "metadata": {},
   "source": [
    "At first, initialize $\\theta$ and store the training RMSE and validation RMSE for this initialized $\\theta$."
   ]
  },
  {
   "cell_type": "code",
   "execution_count": 15,
   "metadata": {},
   "outputs": [
    {
     "name": "stdout",
     "output_type": "stream",
     "text": [
      "RMSE of the initialized theta - train_RMSE : 237271.46, val_RMSE : 235233.51\n"
     ]
    }
   ],
   "source": [
    "# initialize theta \n",
    "feature_num = train_X_b.shape[1]\n",
    "theta = np.random.randn(feature_num,1)\n",
    "\n",
    "GD_train_rmse = []\n",
    "GD_val_rmse = []\n",
    "\n",
    "initialized_theta_train_RMSE = RMSE_calculation(np.dot(train_X_b,theta), train_y)\n",
    "initialized_theta_val_RMSE = RMSE_calculation(np.dot(test_X_b,theta), test_y)\n",
    "\n",
    "GD_train_rmse.append(initialized_theta_train_RMSE)\n",
    "GD_val_rmse.append(initialized_theta_val_RMSE)\n",
    "\n",
    "print('RMSE of the initialized theta - train_RMSE : %.2f, val_RMSE : %.2f' %(initialized_theta_train_RMSE, initialized_theta_val_RMSE))"
   ]
  },
  {
   "cell_type": "markdown",
   "metadata": {},
   "source": [
    "Execute your batch gradient descent."
   ]
  },
  {
   "cell_type": "code",
   "execution_count": 16,
   "metadata": {
    "scrolled": true
   },
   "outputs": [
    {
     "name": "stdout",
     "output_type": "stream",
     "text": [
      "0번째 train_RMSE : 236714.92, val_RMSE : 234686.73\n",
      "100번째 train_RMSE : 188979.95, val_RMSE : 187842.97\n",
      "200번째 train_RMSE : 154323.30, val_RMSE : 153898.16\n",
      "300번째 train_RMSE : 129548.90, val_RMSE : 129652.64\n",
      "400번째 train_RMSE : 112153.87, val_RMSE : 112617.61\n",
      "500번째 train_RMSE : 100148.36, val_RMSE : 100833.23\n",
      "600번째 train_RMSE : 91964.22, val_RMSE : 92771.37\n",
      "700번째 train_RMSE : 86406.83, val_RMSE : 87278.17\n",
      "800번째 train_RMSE : 82608.32, val_RMSE : 83519.37\n",
      "900번째 train_RMSE : 79967.29, val_RMSE : 80916.68\n",
      "1000번째 train_RMSE : 78082.63, val_RMSE : 79082.41\n",
      "1100번째 train_RMSE : 76693.75, val_RMSE : 77762.12\n",
      "1200번째 train_RMSE : 75633.88, val_RMSE : 76790.56\n",
      "1300번째 train_RMSE : 74796.83, val_RMSE : 76060.41\n",
      "1400번째 train_RMSE : 74114.79, val_RMSE : 75501.38\n",
      "1500번째 train_RMSE : 73544.06, val_RMSE : 75066.75\n",
      "1600번째 train_RMSE : 73056.00, val_RMSE : 74724.83\n",
      "1700번째 train_RMSE : 72631.45, val_RMSE : 74453.55\n",
      "1800번째 train_RMSE : 72257.26, val_RMSE : 74237.17\n",
      "1900번째 train_RMSE : 71924.10, val_RMSE : 74064.12\n",
      "2000번째 train_RMSE : 71625.20, val_RMSE : 73925.69\n",
      "2100번째 train_RMSE : 71355.41, val_RMSE : 73815.16\n",
      "2200번째 train_RMSE : 71110.77, val_RMSE : 73727.25\n",
      "2300번째 train_RMSE : 70888.10, val_RMSE : 73657.71\n",
      "2400번째 train_RMSE : 70684.80, val_RMSE : 73603.13\n",
      "2500번째 train_RMSE : 70498.70, val_RMSE : 73560.70\n",
      "2600번째 train_RMSE : 70327.96, val_RMSE : 73528.12\n",
      "2700번째 train_RMSE : 70171.01, val_RMSE : 73503.47\n",
      "2800번째 train_RMSE : 70026.47, val_RMSE : 73485.17\n",
      "2900번째 train_RMSE : 69893.15, val_RMSE : 73471.91\n",
      "3000번째 train_RMSE : 69769.99, val_RMSE : 73462.58\n",
      "3100번째 train_RMSE : 69656.06, val_RMSE : 73456.28\n",
      "3200번째 train_RMSE : 69550.52, val_RMSE : 73452.25\n",
      "3300번째 train_RMSE : 69452.64, val_RMSE : 73449.88\n",
      "3400번째 train_RMSE : 69361.73, val_RMSE : 73448.66\n",
      "3500번째 train_RMSE : 69277.22, val_RMSE : 73448.17\n",
      "3600번째 train_RMSE : 69198.55, val_RMSE : 73448.06\n",
      "3700번째 train_RMSE : 69125.25, val_RMSE : 73448.07\n",
      "3800번째 train_RMSE : 69056.88, val_RMSE : 73447.99\n",
      "3900번째 train_RMSE : 68993.04, val_RMSE : 73447.63\n",
      "4000번째 train_RMSE : 68933.36, val_RMSE : 73446.87\n",
      "4100번째 train_RMSE : 68877.53, val_RMSE : 73445.62\n",
      "4200번째 train_RMSE : 68825.25, val_RMSE : 73443.79\n",
      "4300번째 train_RMSE : 68776.23, val_RMSE : 73441.35\n",
      "4400번째 train_RMSE : 68730.25, val_RMSE : 73438.26\n",
      "4500번째 train_RMSE : 68687.07, val_RMSE : 73434.51\n",
      "4600번째 train_RMSE : 68646.48, val_RMSE : 73430.09\n",
      "4700번째 train_RMSE : 68608.30, val_RMSE : 73425.01\n",
      "4800번째 train_RMSE : 68572.35, val_RMSE : 73419.30\n",
      "4900번째 train_RMSE : 68538.48, val_RMSE : 73412.96\n",
      "5000번째 train_RMSE : 68506.54, val_RMSE : 73406.02\n",
      "5100번째 train_RMSE : 68476.39, val_RMSE : 73398.52\n",
      "5200번째 train_RMSE : 68447.91, val_RMSE : 73390.48\n",
      "5300번째 train_RMSE : 68420.99, val_RMSE : 73381.95\n",
      "5400번째 train_RMSE : 68395.53, val_RMSE : 73372.95\n",
      "5500번째 train_RMSE : 68371.42, val_RMSE : 73363.52\n",
      "5600번째 train_RMSE : 68348.58, val_RMSE : 73353.69\n",
      "5700번째 train_RMSE : 68326.92, val_RMSE : 73343.51\n",
      "5800번째 train_RMSE : 68306.37, val_RMSE : 73333.00\n",
      "5900번째 train_RMSE : 68286.86, val_RMSE : 73322.20\n",
      "6000번째 train_RMSE : 68268.32, val_RMSE : 73311.13\n",
      "6100번째 train_RMSE : 68250.70, val_RMSE : 73299.84\n",
      "6200번째 train_RMSE : 68233.92, val_RMSE : 73288.34\n",
      "6300번째 train_RMSE : 68217.95, val_RMSE : 73276.68\n",
      "6400번째 train_RMSE : 68202.74, val_RMSE : 73264.86\n",
      "6500번째 train_RMSE : 68188.23, val_RMSE : 73252.93\n",
      "6600번째 train_RMSE : 68174.39, val_RMSE : 73240.90\n",
      "6700번째 train_RMSE : 68161.18, val_RMSE : 73228.80\n",
      "6800번째 train_RMSE : 68148.56, val_RMSE : 73216.65\n",
      "6900번째 train_RMSE : 68136.50, val_RMSE : 73204.46\n",
      "7000번째 train_RMSE : 68124.96, val_RMSE : 73192.26\n",
      "7100번째 train_RMSE : 68113.92, val_RMSE : 73180.06\n",
      "7200번째 train_RMSE : 68103.34, val_RMSE : 73167.88\n",
      "7300번째 train_RMSE : 68093.21, val_RMSE : 73155.73\n",
      "7400번째 train_RMSE : 68083.49, val_RMSE : 73143.63\n",
      "7500번째 train_RMSE : 68074.17, val_RMSE : 73131.58\n",
      "7600번째 train_RMSE : 68065.23, val_RMSE : 73119.61\n",
      "7700번째 train_RMSE : 68056.63, val_RMSE : 73107.72\n",
      "7800번째 train_RMSE : 68048.38, val_RMSE : 73095.92\n",
      "7900번째 train_RMSE : 68040.44, val_RMSE : 73084.21\n",
      "8000번째 train_RMSE : 68032.80, val_RMSE : 73072.62\n",
      "8100번째 train_RMSE : 68025.44, val_RMSE : 73061.14\n",
      "8200번째 train_RMSE : 68018.36, val_RMSE : 73049.78\n",
      "8300번째 train_RMSE : 68011.54, val_RMSE : 73038.54\n",
      "8400번째 train_RMSE : 68004.96, val_RMSE : 73027.44\n",
      "8500번째 train_RMSE : 67998.61, val_RMSE : 73016.47\n",
      "8600번째 train_RMSE : 67992.49, val_RMSE : 73005.64\n",
      "8700번째 train_RMSE : 67986.58, val_RMSE : 72994.95\n",
      "8800번째 train_RMSE : 67980.86, val_RMSE : 72984.41\n",
      "8900번째 train_RMSE : 67975.34, val_RMSE : 72974.02\n",
      "9000번째 train_RMSE : 67970.00, val_RMSE : 72963.78\n",
      "9100번째 train_RMSE : 67964.84, val_RMSE : 72953.69\n",
      "9200번째 train_RMSE : 67959.84, val_RMSE : 72943.76\n",
      "9300번째 train_RMSE : 67955.00, val_RMSE : 72933.98\n",
      "9400번째 train_RMSE : 67950.31, val_RMSE : 72924.35\n",
      "9500번째 train_RMSE : 67945.77, val_RMSE : 72914.88\n",
      "9600번째 train_RMSE : 67941.36, val_RMSE : 72905.57\n",
      "9700번째 train_RMSE : 67937.09, val_RMSE : 72896.41\n",
      "9800번째 train_RMSE : 67932.94, val_RMSE : 72887.40\n",
      "9900번째 train_RMSE : 67928.91, val_RMSE : 72878.56\n"
     ]
    }
   ],
   "source": [
    "train_num = train_X_b.shape[0]\n",
    "\n",
    "batch_size = train_num\n",
    "n_epoch = 10000\n",
    "eta = 0.001 # learning rate\n",
    "\n",
    "for epoch in range(n_epoch):\n",
    "    gradient = 2 / batch_size * np.dot(train_X_b.T , np.dot(train_X_b, theta) - train_y)\n",
    "    theta = theta - eta * gradient\n",
    "    \n",
    "    # train error\n",
    "    GD_train_predictions = np.dot(train_X_b, theta)\n",
    "    GD_train_final_rmse = RMSE_calculation(train_y, GD_train_predictions)\n",
    "    GD_train_rmse.append(GD_train_final_rmse)\n",
    "    \n",
    "    # val error\n",
    "    GD_val_predictions = np.dot(test_X_b, theta)\n",
    "    GD_val_final_rmse = RMSE_calculation(test_y, GD_val_predictions)\n",
    "    GD_val_rmse.append(GD_val_final_rmse)\n",
    "    \n",
    "    if epoch%100 == 0:\n",
    "        print('%d번째 train_RMSE : %.2f, val_RMSE : %.2f' %(epoch, GD_train_final_rmse, GD_val_final_rmse))"
   ]
  },
  {
   "cell_type": "markdown",
   "metadata": {},
   "source": [
    "Check for changes of RMSE with epoch."
   ]
  },
  {
   "cell_type": "code",
   "execution_count": 17,
   "metadata": {},
   "outputs": [
    {
     "data": {
      "text/plain": [
       "Text(0, 0.5, 'RMSE')"
      ]
     },
     "execution_count": 17,
     "metadata": {},
     "output_type": "execute_result"
    },
    {
     "data": {
      "image/png": "[encoded data removed]",
      "text/plain": [
       "<Figure size 432x288 with 1 Axes>"
      ]
     },
     "metadata": {
      "needs_background": "light"
     },
     "output_type": "display_data"
    }
   ],
   "source": [
    "plt.plot(GD_train_rmse, \"r+\", linewidth=2, label=\"train\")\n",
    "plt.plot(GD_val_rmse, \"b-\", linewidth=3, label=\"val\")\n",
    "\n",
    "plt.ylim([60000, 250000])\n",
    "plt.legend(loc='upper right')\n",
    "plt.xlabel('epoch')\n",
    "plt.ylabel('RMSE')"
   ]
  },
  {
   "cell_type": "markdown",
   "metadata": {},
   "source": [
    "### 4-2) Mini-Batch Gradient Descent"
   ]
  },
  {
   "cell_type": "markdown",
   "metadata": {},
   "source": [
    "It is mini-batch gradient descent that  𝑋  contains only a small set of randomly selected training instances.<br/>\n",
    "It is important to shuffle the order of train instances after each epochs."
   ]
  },
  {
   "cell_type": "markdown",
   "metadata": {},
   "source": [
    "Initialize  𝜃  and store the training RMSE and validation RMSE for this initialized  𝜃 ."
   ]
  },
  {
   "cell_type": "code",
   "execution_count": 18,
   "metadata": {},
   "outputs": [
    {
     "name": "stdout",
     "output_type": "stream",
     "text": [
      "RMSE of the initialized theta - train_RMSE : 237270.62, val_RMSE : 235232.66\n"
     ]
    }
   ],
   "source": [
    "theta = np.random.randn(feature_num,1)\n",
    "theta_bkp = theta # back-up the theta values\n",
    "\n",
    "GD_train_rmse = []\n",
    "GD_val_rmse = []\n",
    "\n",
    "GD_batch_train_rmse = []\n",
    "GD_batch_val_rmse = []\n",
    "\n",
    "initialized_theta_train_RMSE = RMSE_calculation(np.dot(train_X_b,theta), train_y)\n",
    "initialized_theta_val_RMSE = RMSE_calculation(np.dot(test_X_b,theta), test_y)\n",
    "\n",
    "GD_train_rmse.append(initialized_theta_train_RMSE)\n",
    "GD_val_rmse.append(initialized_theta_val_RMSE)\n",
    "GD_batch_train_rmse.append(initialized_theta_train_RMSE)\n",
    "GD_batch_val_rmse.append(initialized_theta_val_RMSE)\n",
    "\n",
    "print('RMSE of the initialized theta - train_RMSE : %.2f, val_RMSE : %.2f' %(initialized_theta_train_RMSE, initialized_theta_val_RMSE))"
   ]
  },
  {
   "cell_type": "markdown",
   "metadata": {},
   "source": [
    "Execute your mini-batch gradient descent."
   ]
  },
  {
   "cell_type": "code",
   "execution_count": 19,
   "metadata": {
    "scrolled": true
   },
   "outputs": [
    {
     "name": "stdout",
     "output_type": "stream",
     "text": [
      "0번째 train_RMSE : 178115.56, val_RMSE : 177198.20\n",
      "10번째 train_RMSE : 74002.77, val_RMSE : 75416.41\n",
      "20번째 train_RMSE : 70157.95, val_RMSE : 73504.35\n",
      "30번째 train_RMSE : 68934.44, val_RMSE : 73443.96\n",
      "40번째 train_RMSE : 68424.70, val_RMSE : 73383.24\n",
      "50번째 train_RMSE : 68177.75, val_RMSE : 73237.36\n",
      "60번째 train_RMSE : 68043.36, val_RMSE : 73083.93\n",
      "70번째 train_RMSE : 67962.44, val_RMSE : 72947.81\n",
      "80번째 train_RMSE : 67909.15, val_RMSE : 72833.05\n",
      "90번째 train_RMSE : 67871.78, val_RMSE : 72741.51\n"
     ]
    }
   ],
   "source": [
    "batch_size = 128\n",
    "n_epoch = 100\n",
    "eta = 0.001 # learning rate\n",
    "\n",
    "for epoch in range(n_epoch):\n",
    "    \n",
    "    # shuffle\n",
    "    shuffle_indices = np.random.permutation(train_num)\n",
    "    feature_shuffled = train_X_b[shuffle_indices,:]\n",
    "    target_shuffled = train_y[shuffle_indices,:]\n",
    "    \n",
    "    for i in range(0, train_num, batch_size):\n",
    "        batch_x = feature_shuffled[i:i+batch_size,:]\n",
    "        batch_y = target_shuffled[i:i+batch_size,:]\n",
    "\n",
    "        gradient = 2/batch_size * np.dot(batch_x.T , np.dot(batch_x, theta) - batch_y)\n",
    "        theta = theta - eta * gradient\n",
    "        \n",
    "        # train error after batch update \n",
    "        train_batch_predictions = np.dot(train_X_b, theta)\n",
    "        train_batch_rmse = RMSE_calculation(train_y, train_batch_predictions)\n",
    "        GD_batch_train_rmse.append(train_batch_rmse)\n",
    "        \n",
    "        # test error after batch update\n",
    "        val_batch_predictions = np.dot(test_X_b, theta)\n",
    "        val_batch_rmse = RMSE_calculation(test_y, val_batch_predictions)\n",
    "        GD_batch_val_rmse.append(val_batch_rmse)\n",
    "        \n",
    "    # train error after epoch \n",
    "    GD_train_predictions = np.dot(train_X_b, theta)\n",
    "    GD_train_final_rmse = RMSE_calculation(train_y, GD_train_predictions)\n",
    "    GD_train_rmse.append(GD_train_final_rmse)\n",
    "    \n",
    "    # val error after epoch \n",
    "    GD_val_predictions = np.dot(test_X_b, theta)\n",
    "    GD_val_final_rmse = RMSE_calculation(test_y, GD_val_predictions)\n",
    "    GD_val_rmse.append(GD_val_final_rmse)\n",
    "    \n",
    "    if epoch%10 == 0:\n",
    "        print('%d번째 train_RMSE : %.2f, val_RMSE : %.2f' %(epoch, GD_train_final_rmse, GD_val_final_rmse))"
   ]
  },
  {
   "cell_type": "markdown",
   "metadata": {},
   "source": [
    "Check for changes of RMSE with epoch."
   ]
  },
  {
   "cell_type": "code",
   "execution_count": 20,
   "metadata": {
    "scrolled": false
   },
   "outputs": [
    {
     "data": {
      "text/plain": [
       "Text(0, 0.5, 'RMSE')"
      ]
     },
     "execution_count": 20,
     "metadata": {},
     "output_type": "execute_result"
    },
    {
     "data": {
      "image/png": "[encoded data removed]",
      "text/plain": [
       "<Figure size 432x288 with 1 Axes>"
      ]
     },
     "metadata": {
      "needs_background": "light"
     },
     "output_type": "display_data"
    }
   ],
   "source": [
    "plt.plot(GD_train_rmse, \"r+\", linewidth=2, label=\"train\")\n",
    "plt.plot(GD_val_rmse, \"b-\", linewidth=3, label=\"val\")\n",
    "\n",
    "plt.ylim([60000, 250000])\n",
    "plt.legend(loc='upper right')\n",
    "plt.xlabel('epoch')\n",
    "plt.ylabel('RMSE')"
   ]
  },
  {
   "cell_type": "markdown",
   "metadata": {},
   "source": [
    "Check for changes of RMSE with batch update."
   ]
  },
  {
   "cell_type": "code",
   "execution_count": 21,
   "metadata": {},
   "outputs": [
    {
     "data": {
      "text/plain": [
       "Text(0, 0.5, 'RMSE')"
      ]
     },
     "execution_count": 21,
     "metadata": {},
     "output_type": "execute_result"
    },
    {
     "data": {
      "image/png": "[encoded data removed]",
      "text/plain": [
       "<Figure size 432x288 with 1 Axes>"
      ]
     },
     "metadata": {
      "needs_background": "light"
     },
     "output_type": "display_data"
    }
   ],
   "source": [
    "plt.plot(GD_batch_train_rmse, \"r+\", linewidth=2, label=\"train\")\n",
    "plt.plot(GD_batch_val_rmse, \"b-\", linewidth=3, label=\"val\")\n",
    "\n",
    "plt.ylim([60000, 250000])\n",
    "plt.xlim([0,2000])\n",
    "plt.legend(loc='upper right')\n",
    "plt.xlabel('updates')\n",
    "plt.ylabel('RMSE')"
   ]
  },
  {
   "cell_type": "markdown",
   "metadata": {},
   "source": [
    "### 4-3) Stochastic Gradient Descent"
   ]
  },
  {
   "cell_type": "markdown",
   "metadata": {},
   "source": [
    "It is stochastic gradient descent that $𝑋$ contains only one training instance selected randomly."
   ]
  },
  {
   "cell_type": "markdown",
   "metadata": {},
   "source": [
    "Initialize 𝜃 and store the training RMSE and validation RMSE for this initialized 𝜃 "
   ]
  },
  {
   "cell_type": "code",
   "execution_count": 22,
   "metadata": {},
   "outputs": [
    {
     "name": "stdout",
     "output_type": "stream",
     "text": [
      "RMSE of the initialized theta - train_RMSE : 237272.06, val_RMSE : 235234.08\n"
     ]
    }
   ],
   "source": [
    "theta = np.random.randn(feature_num,1)\n",
    "theta_bkp = theta # back-up the theta values\n",
    "\n",
    "GD_train_rmse = []\n",
    "GD_val_rmse = []\n",
    "\n",
    "GD_batch_train_rmse = []\n",
    "GD_batch_val_rmse = []\n",
    "\n",
    "initialized_theta_train_RMSE = RMSE_calculation(np.dot(train_X_b,theta), train_y)\n",
    "initialized_theta_val_RMSE = RMSE_calculation(np.dot(test_X_b,theta), test_y)\n",
    "\n",
    "GD_train_rmse.append(initialized_theta_train_RMSE)\n",
    "GD_val_rmse.append(initialized_theta_val_RMSE)\n",
    "GD_batch_train_rmse.append(initialized_theta_train_RMSE)\n",
    "GD_batch_val_rmse.append(initialized_theta_val_RMSE)\n",
    "\n",
    "print('RMSE of the initialized theta - train_RMSE : %.2f, val_RMSE : %.2f' %(initialized_theta_train_RMSE, initialized_theta_val_RMSE))"
   ]
  },
  {
   "cell_type": "markdown",
   "metadata": {},
   "source": [
    "Execute your stochastic gradient descent algorithm.<br/>"
   ]
  },
  {
   "cell_type": "code",
   "execution_count": 23,
   "metadata": {},
   "outputs": [
    {
     "name": "stdout",
     "output_type": "stream",
     "text": [
      "0번째 train_RMSE : 68477.48, val_RMSE : 73333.12\n",
      "5번째 train_RMSE : 67928.76, val_RMSE : 74203.31\n",
      "10번째 train_RMSE : 68445.69, val_RMSE : 73247.62\n",
      "15번째 train_RMSE : 68251.17, val_RMSE : 74976.56\n",
      "20번째 train_RMSE : 68006.72, val_RMSE : 72583.57\n",
      "25번째 train_RMSE : 68284.88, val_RMSE : 73069.59\n",
      "30번째 train_RMSE : 68223.27, val_RMSE : 71472.34\n",
      "35번째 train_RMSE : 67953.04, val_RMSE : 71633.78\n",
      "40번째 train_RMSE : 68189.87, val_RMSE : 72350.49\n",
      "45번째 train_RMSE : 67849.03, val_RMSE : 72355.41\n"
     ]
    }
   ],
   "source": [
    "######################## Q1. ##################################\n",
    "#  TO DO : Fill in the blank with your stochastic gradient descent code.\n",
    "# set the hyper-parameters as follows.\n",
    "# parameters setting : batch size = 1 , epoch = 50 , learning rate = 0.001\n",
    "\n",
    "batch_size = 1\n",
    "n_epoch = 50\n",
    "eta = 0.001 # learning rate\n",
    "\n",
    "for epoch in range(n_epoch):\n",
    "    \n",
    "    # shuffle\n",
    "    shuffle_indices = np.random.permutation(train_num)\n",
    "    feature_shuffled = train_X_b[shuffle_indices,:]\n",
    "    target_shuffled = train_y[shuffle_indices,:]\n",
    "    \n",
    "    for i in range(0, train_num, batch_size):\n",
    "        batch_x = feature_shuffled[i:i+batch_size,:]\n",
    "        batch_y = target_shuffled[i:i+batch_size,:]\n",
    "\n",
    "        gradient = 2/batch_size * np.dot(batch_x.T , np.dot(batch_x, theta) - batch_y)\n",
    "        theta = theta - eta * gradient\n",
    "        \n",
    "        # train error after batch update \n",
    "        train_batch_predictions = np.dot(train_X_b, theta)\n",
    "        train_batch_rmse = RMSE_calculation(train_y, train_batch_predictions)\n",
    "        GD_batch_train_rmse.append(train_batch_rmse)\n",
    "        \n",
    "        # test error after batch update\n",
    "        val_batch_predictions = np.dot(test_X_b, theta)\n",
    "        val_batch_rmse = RMSE_calculation(test_y, val_batch_predictions)\n",
    "        GD_batch_val_rmse.append(val_batch_rmse)\n",
    "        \n",
    "    # train error after epoch \n",
    "    GD_train_predictions = np.dot(train_X_b, theta)\n",
    "    GD_train_final_rmse = RMSE_calculation(train_y, GD_train_predictions)\n",
    "    GD_train_rmse.append(GD_train_final_rmse)\n",
    "    \n",
    "    # val error after epoch \n",
    "    GD_val_predictions = np.dot(test_X_b, theta)\n",
    "    GD_val_final_rmse = RMSE_calculation(test_y, GD_val_predictions)\n",
    "    GD_val_rmse.append(GD_val_final_rmse)\n",
    "    \n",
    "    ######################## Q2. ##################################\n",
    "    # TO DO : Check the RMSE with each 5 epoches.\n",
    "    if epoch%5 == 0:\n",
    "        print('%d번째 train_RMSE : %.2f, val_RMSE : %.2f' %(epoch, GD_train_final_rmse, GD_val_final_rmse))\n",
    "    ##############################################################\n",
    "    \n",
    "    \n",
    "    \n",
    "##############################################################"
   ]
  },
  {
   "cell_type": "code",
   "execution_count": 24,
   "metadata": {},
   "outputs": [
    {
     "data": {
      "text/plain": [
       "Text(0, 0.5, 'RMSE')"
      ]
     },
     "execution_count": 24,
     "metadata": {},
     "output_type": "execute_result"
    },
    {
     "data": {
      "image/png": "[encoded data removed]",
      "text/plain": [
       "<Figure size 432x288 with 1 Axes>"
      ]
     },
     "metadata": {
      "needs_background": "light"
     },
     "output_type": "display_data"
    }
   ],
   "source": [
    "######################## Q3. ##################################\n",
    "# TO DO : plot the learning curve with each epoch.\n",
    "plt.plot(GD_train_rmse, \"r+\", linewidth=2, label=\"train\")\n",
    "plt.plot(GD_val_rmse, \"b-\", linewidth=3, label=\"val\")\n",
    "\n",
    "plt.ylim([60000, 250000])\n",
    "plt.legend(loc='upper right')\n",
    "plt.xlabel('epoch')\n",
    "plt.ylabel('RMSE')\n",
    "##############################################################"
   ]
  },
  {
   "cell_type": "code",
   "execution_count": 25,
   "metadata": {},
   "outputs": [
    {
     "data": {
      "text/plain": [
       "Text(0, 0.5, 'RMSE')"
      ]
     },
     "execution_count": 25,
     "metadata": {},
     "output_type": "execute_result"
    },
    {
     "data": {
      "image/png": "[encoded data removed]",
      "text/plain": [
       "<Figure size 432x288 with 1 Axes>"
      ]
     },
     "metadata": {
      "needs_background": "light"
     },
     "output_type": "display_data"
    }
   ],
   "source": [
    "######################## Q4. ##################################\n",
    "# TO DO : plot the learning curve with each updates.\n",
    "plt.plot(GD_batch_train_rmse, \"r+\", linewidth=2, label=\"train\")\n",
    "plt.plot(GD_batch_val_rmse, \"b-\", linewidth=3, label=\"val\")\n",
    "\n",
    "plt.ylim([60000, 250000])\n",
    "plt.xlim([0,2000])\n",
    "plt.legend(loc='upper right')\n",
    "plt.xlabel('updates')\n",
    "plt.ylabel('RMSE')\n",
    "##############################################################"
   ]
  },
  {
   "cell_type": "markdown",
   "metadata": {},
   "source": [
    "### 4-4) Stochastic Gradient Descent using SGDRegressor"
   ]
  },
  {
   "cell_type": "markdown",
   "metadata": {},
   "source": [
    "Scikit-Learn provide a function for stochastic gradient descent, SGDRegressor().<br/>\n",
    "SGDRegressor() has 2 methods, 'fit()' and 'partial_fit()'. <br/>\n",
    "If you use 'fit()' method, you can check the RMSE after total epoches. In the case of 'partial_fit()' method, you can check the RMSE of each epoch.<br/>\n",
    "To plot the changes of RMSE with each epoch, please use 'partial_fit()' method.<br/>\n",
    "\n",
    "reference : https://scikit-learn.org/stable/modules/generated/sklearn.linear_model.SGDRegressor.html"
   ]
  },
  {
   "cell_type": "code",
   "execution_count": 26,
   "metadata": {},
   "outputs": [
    {
     "name": "stdout",
     "output_type": "stream",
     "text": [
      "RMSE of the initialized theta - train_RMSE : 237272.06, val_RMSE : 235234.08\n"
     ]
    }
   ],
   "source": [
    "SGDfunc_train_rmse = []\n",
    "SGDfunc_val_rmse = []\n",
    "\n",
    "SGDfunc_initialized_theta_train_RMSE = RMSE_calculation(np.dot(train_X_b,theta_bkp), train_y)\n",
    "SGDfunc_initialized_theta_val_RMSE = RMSE_calculation(np.dot(test_X_b,theta_bkp), test_y)\n",
    "\n",
    "SGDfunc_train_rmse.append(SGDfunc_initialized_theta_train_RMSE)\n",
    "SGDfunc_val_rmse.append(SGDfunc_initialized_theta_val_RMSE)\n",
    "\n",
    "\n",
    "print('RMSE of the initialized theta - train_RMSE : %.2f, val_RMSE : %.2f' \n",
    "      %(SGDfunc_initialized_theta_train_RMSE, SGDfunc_initialized_theta_val_RMSE))"
   ]
  },
  {
   "cell_type": "markdown",
   "metadata": {},
   "source": [
    "Fill in the blanks with your code."
   ]
  },
  {
   "cell_type": "code",
   "execution_count": 30,
   "metadata": {},
   "outputs": [
    {
     "name": "stdout",
     "output_type": "stream",
     "text": [
      "0번째 train_RMSE : 68728.92, val_RMSE : 73476.92\n",
      "5번째 train_RMSE : 67861.08, val_RMSE : 73555.34\n",
      "10번째 train_RMSE : 67837.25, val_RMSE : 71997.87\n",
      "15번째 train_RMSE : 69477.68, val_RMSE : 74168.63\n",
      "20번째 train_RMSE : 67791.09, val_RMSE : 72755.61\n",
      "25번째 train_RMSE : 68066.16, val_RMSE : 72017.70\n",
      "30번째 train_RMSE : 67855.04, val_RMSE : 73224.67\n",
      "35번째 train_RMSE : 67808.25, val_RMSE : 72786.78\n",
      "40번째 train_RMSE : 76195.70, val_RMSE : 80028.27\n",
      "45번째 train_RMSE : 67901.23, val_RMSE : 72377.19\n"
     ]
    }
   ],
   "source": [
    "######################## Q1. ##################################\n",
    "#  TO DO : import SGDRegressor() function.\n",
    "from sklearn.linear_model import SGDRegressor\n",
    "\n",
    "##############################################################\n",
    "\n",
    "\n",
    "\n",
    "######################## Q2. ##################################\n",
    "# TO DO : set the number of n_epoch to 50\n",
    "n_epoch = 50\n",
    "##############################################################\n",
    "\n",
    "\n",
    "\n",
    "######################## Q3. ##################################\n",
    "# TO DO : set the parameters of SGDRegressor() as follows.\n",
    "# parameters setting : penalty='none', learning_rate='constant', eta0=0.001\n",
    "\n",
    "SGD_model = SGDRegressor(penalty='none', learning_rate='constant', eta0=0.001) \n",
    "##############################################################\n",
    "\n",
    "\n",
    "for epoch in range(n_epoch):   \n",
    "    ######################## Q4. ##################################\n",
    "    # TO DO : execute 'partial_fit()' method.\n",
    "    SGD_model.partial_fit(train_set_features, train_set_target) \n",
    "    ##############################################################\n",
    "    \n",
    "    # train error\n",
    "    SGD_train_predictions = SGD_model.predict(train_set_features)\n",
    "    SGD_train_final_rmse = RMSE_calculation(SGD_train_predictions, train_set_target)\n",
    "    SGDfunc_train_rmse.append(SGD_train_final_rmse)\n",
    "    \n",
    "    # val error\n",
    "    SGD_val_predictions = SGD_model.predict(test_set_features)\n",
    "    SGD_val_final_rmse = RMSE_calculation(SGD_val_predictions, test_set_target)\n",
    "    SGDfunc_val_rmse.append(SGD_val_final_rmse)\n",
    "    \n",
    "    if epoch%5 == 0:\n",
    "           print('%d번째 train_RMSE : %.2f, val_RMSE : %.2f' %(epoch, SGD_train_final_rmse, SGD_val_final_rmse))\n",
    "\n",
    "    # command to hide the warning box\n",
    "    import warnings\n",
    "    warnings.filterwarnings(action = 'ignore')\n"
   ]
  },
  {
   "cell_type": "code",
   "execution_count": 28,
   "metadata": {},
   "outputs": [
    {
     "data": {
      "text/plain": [
       "Text(0, 0.5, 'RMSE')"
      ]
     },
     "execution_count": 28,
     "metadata": {},
     "output_type": "execute_result"
    },
    {
     "data": {
      "image/png": "[encoded data removed]",
      "text/plain": [
       "<Figure size 432x288 with 1 Axes>"
      ]
     },
     "metadata": {
      "needs_background": "light"
     },
     "output_type": "display_data"
    }
   ],
   "source": [
    "######################## Q5. ##################################\n",
    "# TO DO : plot the learning curve as epoch changes.\n",
    "plt.plot(SGDfunc_train_rmse, \"r+\", linewidth=2, label=\"train\")\n",
    "plt.ylim([60000, 250000])                         # not shown in the book\n",
    "plt.plot(SGDfunc_val_rmse, \"b-\", linewidth=3, label=\"val\")\n",
    "plt.legend(loc='upper right')\n",
    "plt.xlabel('epoch')\n",
    "plt.ylabel('RMSE')\n",
    "##############################################################"
   ]
  }
 ],
 "metadata": {
  "kernelspec": {
   "display_name": "Python 3",
   "language": "python",
   "name": "python3"
  },
  "language_info": {
   "codemirror_mode": {
    "name": "ipython",
    "version": 3
   },
   "file_extension": ".py",
   "mimetype": "text/x-python",
   "name": "python",
   "nbconvert_exporter": "python",
   "pygments_lexer": "ipython3",
   "version": "3.7.1"
  },
  "nav_menu": {
   "height": "279px",
   "width": "309px"
  },
  "toc": {
   "nav_menu": {},
   "number_sections": true,
   "sideBar": true,
   "skip_h1_title": false,
   "toc_cell": false,
   "toc_position": {},
   "toc_section_display": "block",
   "toc_window_display": false
  }
 },
 "nbformat": 4,
 "nbformat_minor": 1
}
